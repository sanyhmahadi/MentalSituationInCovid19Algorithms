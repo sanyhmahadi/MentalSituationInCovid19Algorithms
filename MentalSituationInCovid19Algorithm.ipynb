{
  "nbformat": 4,
  "nbformat_minor": 0,
  "metadata": {
    "colab": {
      "name": "MentalSituationInCovid19Algorithm.ipynb",
      "provenance": [],
      "collapsed_sections": [],
      "include_colab_link": true
    },
    "kernelspec": {
      "name": "python3",
      "display_name": "Python 3"
    },
    "language_info": {
      "name": "python"
    }
  },
  "cells": [
    {
      "cell_type": "markdown",
      "metadata": {
        "id": "view-in-github",
        "colab_type": "text"
      },
      "source": [
        "<a href=\"https://colab.research.google.com/github/sanyhmahadi/MentalSituationInCovid19/blob/main/MentalSituationInCovid19Algorithm.ipynb\" target=\"_parent\"><img src=\"https://colab.research.google.com/assets/colab-badge.svg\" alt=\"Open In Colab\"/></a>"
      ]
    },
    {
      "cell_type": "code",
      "metadata": {
        "id": "DCZkvlPxU0ZZ"
      },
      "source": [
        "import pandas as pd\n",
        "df = pd.read_excel(\"/content/drive/MyDrive/Research/NLP/covidSentimentData.xlsx\")"
      ],
      "execution_count": null,
      "outputs": []
    },
    {
      "cell_type": "code",
      "metadata": {
        "colab": {
          "base_uri": "https://localhost:8080/",
          "height": 204
        },
        "id": "33Oz3l2QnzZx",
        "outputId": "5bfed9e0-4938-4db9-b73d-b63a6e2bc6b1"
      },
      "source": [
        "df.head(5)"
      ],
      "execution_count": null,
      "outputs": [
        {
          "output_type": "execute_result",
          "data": {
            "text/html": [
              "<div>\n",
              "<style scoped>\n",
              "    .dataframe tbody tr th:only-of-type {\n",
              "        vertical-align: middle;\n",
              "    }\n",
              "\n",
              "    .dataframe tbody tr th {\n",
              "        vertical-align: top;\n",
              "    }\n",
              "\n",
              "    .dataframe thead th {\n",
              "        text-align: right;\n",
              "    }\n",
              "</style>\n",
              "<table border=\"1\" class=\"dataframe\">\n",
              "  <thead>\n",
              "    <tr style=\"text-align: right;\">\n",
              "      <th></th>\n",
              "      <th>TypeOfOpinion</th>\n",
              "      <th>Status</th>\n",
              "    </tr>\n",
              "  </thead>\n",
              "  <tbody>\n",
              "    <tr>\n",
              "      <th>0</th>\n",
              "      <td>স্বাস্থ সচেতন হয়েছি, এই সময়ে সময়ে এক্সট্রা এ এ...</td>\n",
              "      <td>yes</td>\n",
              "    </tr>\n",
              "    <tr>\n",
              "      <th>1</th>\n",
              "      <td>স্বাস্থ সচেতন হয়েছি, এই সময়ে সময়ে এক্সট্রা এ এ...</td>\n",
              "      <td>yes</td>\n",
              "    </tr>\n",
              "    <tr>\n",
              "      <th>2</th>\n",
              "      <td>স্বাস্থ সচেতন হয়েছি, এই সময়ে সময়ে এক্সট্রা এ এ...</td>\n",
              "      <td>No</td>\n",
              "    </tr>\n",
              "    <tr>\n",
              "      <th>3</th>\n",
              "      <td>পড়ালেখা বিঘ্নিত হয়েছে</td>\n",
              "      <td>yes</td>\n",
              "    </tr>\n",
              "    <tr>\n",
              "      <th>4</th>\n",
              "      <td>স্বাস্থ সচেতন হয়েছি, পড়ালেখা বিঘ্নিত হয়েছে</td>\n",
              "      <td>yes</td>\n",
              "    </tr>\n",
              "  </tbody>\n",
              "</table>\n",
              "</div>"
            ],
            "text/plain": [
              "                                       TypeOfOpinion Status\n",
              "0  স্বাস্থ সচেতন হয়েছি, এই সময়ে সময়ে এক্সট্রা এ এ...    yes\n",
              "1  স্বাস্থ সচেতন হয়েছি, এই সময়ে সময়ে এক্সট্রা এ এ...    yes\n",
              "2  স্বাস্থ সচেতন হয়েছি, এই সময়ে সময়ে এক্সট্রা এ এ...     No\n",
              "3                              পড়ালেখা বিঘ্নিত হয়েছে    yes\n",
              "4         স্বাস্থ সচেতন হয়েছি, পড়ালেখা বিঘ্নিত হয়েছে    yes"
            ]
          },
          "metadata": {
            "tags": []
          },
          "execution_count": 362
        }
      ]
    },
    {
      "cell_type": "code",
      "metadata": {
        "colab": {
          "base_uri": "https://localhost:8080/"
        },
        "id": "AFoboq7BGk1B",
        "outputId": "c5f86e4a-36d8-463c-e13a-507362cc8df4"
      },
      "source": [
        "df.columns"
      ],
      "execution_count": null,
      "outputs": [
        {
          "output_type": "execute_result",
          "data": {
            "text/plain": [
              "Index(['TypeOfOpinion', 'Status'], dtype='object')"
            ]
          },
          "metadata": {
            "tags": []
          },
          "execution_count": 363
        }
      ]
    },
    {
      "cell_type": "code",
      "metadata": {
        "colab": {
          "base_uri": "https://localhost:8080/"
        },
        "id": "_rlacHHSEdXM",
        "outputId": "6aef0a00-36e5-4ff0-b19d-0e5549bb25c3"
      },
      "source": [
        "df.dtypes"
      ],
      "execution_count": null,
      "outputs": [
        {
          "output_type": "execute_result",
          "data": {
            "text/plain": [
              "TypeOfOpinion    object\n",
              "Status           object\n",
              "dtype: object"
            ]
          },
          "metadata": {
            "tags": []
          },
          "execution_count": 364
        }
      ]
    },
    {
      "cell_type": "code",
      "metadata": {
        "colab": {
          "base_uri": "https://localhost:8080/"
        },
        "id": "aEZ9HVuk4W5d",
        "outputId": "cd6bac0b-d385-4d43-881b-03a42b439948"
      },
      "source": [
        "len(df[df.Status=='yes'])"
      ],
      "execution_count": null,
      "outputs": [
        {
          "output_type": "execute_result",
          "data": {
            "text/plain": [
              "237"
            ]
          },
          "metadata": {
            "tags": []
          },
          "execution_count": 365
        }
      ]
    },
    {
      "cell_type": "code",
      "metadata": {
        "colab": {
          "base_uri": "https://localhost:8080/"
        },
        "id": "EmxBYl4BqMz6",
        "outputId": "35b208b1-369f-473e-cb4a-f8d2cb6b5ab1"
      },
      "source": [
        "len(df[df.Status=='No'])"
      ],
      "execution_count": null,
      "outputs": [
        {
          "output_type": "execute_result",
          "data": {
            "text/plain": [
              "206"
            ]
          },
          "metadata": {
            "tags": []
          },
          "execution_count": 366
        }
      ]
    },
    {
      "cell_type": "code",
      "metadata": {
        "id": "9GsM2whotScA"
      },
      "source": [
        "df.Status = df.Status.replace({'yes': 1, 'No': 0})"
      ],
      "execution_count": null,
      "outputs": []
    },
    {
      "cell_type": "code",
      "metadata": {
        "colab": {
          "base_uri": "https://localhost:8080/"
        },
        "id": "JGJrnOs_Gx5L",
        "outputId": "b0ad3407-3909-40f6-8ca3-0fdadd7f9aca"
      },
      "source": [
        "df.shape"
      ],
      "execution_count": null,
      "outputs": [
        {
          "output_type": "execute_result",
          "data": {
            "text/plain": [
              "(443, 2)"
            ]
          },
          "metadata": {
            "tags": []
          },
          "execution_count": 368
        }
      ]
    },
    {
      "cell_type": "code",
      "metadata": {
        "colab": {
          "base_uri": "https://localhost:8080/"
        },
        "id": "lE2019TMBn21",
        "outputId": "b45bd63c-b2d7-491e-f350-5ca01e7fd691"
      },
      "source": [
        "df['TypeOfOpinion'].value_counts()"
      ],
      "execution_count": null,
      "outputs": [
        {
          "output_type": "execute_result",
          "data": {
            "text/plain": [
              "স্বাস্থ সচেতন হয়েছি, পড়ালেখা বিঘ্নিত হয়েছে                                                                                                                                                          66\n",
              "স্বাস্থ সচেতন হয়েছি                                                                                                                                                                                 57\n",
              "স্বাস্থ সচেতন হয়েছি, এই সময়ে সময়ে এক্সট্রা এ এক্টিভেটিস করার যথেষ্ট সময় পেয়েছি, পড়ালেখা বিঘ্নিত হয়েছে                                                                                               46\n",
              "পড়ালেখা বিঘ্নিত হয়েছে                                                                                                                                                                               42\n",
              "স্বাস্থ সচেতন হয়েছি, এই সময়ে সময়ে এক্সট্রা এ এক্টিভেটিস করার যথেষ্ট সময় পেয়েছি                                                                                                                      25\n",
              "এই সময়ে সময়ে এক্সট্রা এ এক্টিভেটিস করার যথেষ্ট সময় পেয়েছি                                                                                                                                           22\n",
              "স্বাস্থ সচেতন হয়েছি, অনলাইন বিজনেস এ লাভবান হয়েছি, এই সময়ে সময়ে এক্সট্রা এ এক্টিভেটিস করার যথেষ্ট সময় পেয়েছি                                                                                        16\n",
              "স্বাস্থ সচেতন হয়েছি, অনলাইন বিজনেস এ লাভবান হয়েছি, এই সময়ে সময়ে এক্সট্রা এ এক্টিভেটিস করার যথেষ্ট সময় পেয়েছি, পড়ালেখা বিঘ্নিত হয়েছে                                                                 16\n",
              "স্বাস্থ সচেতন হয়েছি, এই সময়ে সময়ে এক্সট্রা এ এক্টিভেটিস করার যথেষ্ট সময় পেয়েছি, কভিড-১৯ এ আক্রান্ত হয়েছি, পড়ালেখা বিঘ্নিত হয়েছে                                                                     15\n",
              "স্বাস্থ সচেতন হয়েছি, অনলাইন বিজনেস এ লাভবান হয়েছি                                                                                                                                                   13\n",
              "অনলাইন বিজনেস এ লাভবান হয়েছি                                                                                                                                                                        10\n",
              "স্বাস্থ সচেতন হয়েছি, অনলাইন বিজনেস এ লাভবান হয়েছি, পড়ালেখা বিঘ্নিত হয়েছে                                                                                                                            10\n",
              "কভিড-১৯ এ আক্রান্ত হয়েছি, পড়ালেখা বিঘ্নিত হয়েছে                                                                                                                                                      9\n",
              "কভিড-১৯ এ আক্রান্ত হয়েছি, পরিবারের সাথে দূরত্ব সৃষ্টি হয়েছে, পড়ালেখা বিঘ্নিত হয়েছে                                                                                                                   9\n",
              "এই সময়ে সময়ে এক্সট্রা এ এক্টিভেটিস করার যথেষ্ট সময় পেয়েছি, পড়ালেখা বিঘ্নিত হয়েছে                                                                                                                     9\n",
              "পরিবারের সাথে দূরত্ব সৃষ্টি হয়েছে, পড়ালেখা বিঘ্নিত হয়েছে                                                                                                                                             8\n",
              "পরিবারের সাথে দূরত্ব সৃষ্টি হয়েছে                                                                                                                                                                    7\n",
              "স্বাস্থ সচেতন হয়েছি, অনলাইন বিজনেস এ লাভবান হয়েছি, এই সময়ে সময়ে এক্সট্রা এ এক্টিভেটিস করার যথেষ্ট সময় পেয়েছি, কভিড-১৯ এ আক্রান্ত হয়েছি, পরিবারের সাথে দূরত্ব সৃষ্টি হয়েছে, পড়ালেখা বিঘ্নিত হয়েছে     6\n",
              "কভিড-১৯ এ আক্রান্ত হয়েছি                                                                                                                                                                             6\n",
              "স্বাস্থ সচেতন হয়েছি, কভিড-১৯ এ আক্রান্ত হয়েছি                                                                                                                                                        5\n",
              "অনলাইন বিজনেস এ লাভবান হয়েছি, এই সময়ে সময়ে এক্সট্রা এ এক্টিভেটিস করার যথেষ্ট সময় পেয়েছি                                                                                                              5\n",
              "কভিড-১৯ এ আক্রান্ত হয়েছি, পরিবারের সাথে দূরত্ব সৃষ্টি হয়েছে                                                                                                                                          4\n",
              "স্বাস্থ সচেতন হয়েছি, পরিবারের সাথে দূরত্ব সৃষ্টি হয়েছে, পড়ালেখা বিঘ্নিত হয়েছে                                                                                                                        4\n",
              "স্বাস্থ সচেতন হয়েছি, কভিড-১৯ এ আক্রান্ত হয়েছি, পরিবারের সাথে দূরত্ব সৃষ্টি হয়েছে, পড়ালেখা বিঘ্নিত হয়েছে                                                                                              4\n",
              "অনলাইন বিজনেস এ লাভবান হয়েছি, এই সময়ে সময়ে এক্সট্রা এ এক্টিভেটিস করার যথেষ্ট সময় পেয়েছি, পড়ালেখা বিঘ্নিত হয়েছে                                                                                       4\n",
              "স্বাস্থ সচেতন হয়েছি, এই সময়ে সময়ে এক্সট্রা এ এক্টিভেটিস করার যথেষ্ট সময় পেয়েছি, পরিবারের সাথে দূরত্ব সৃষ্টি হয়েছে                                                                                    4\n",
              "স্বাস্থ সচেতন হয়েছি, কভিড-১৯ এ আক্রান্ত হয়েছি, পড়ালেখা বিঘ্নিত হয়েছে                                                                                                                                 3\n",
              "স্বাস্থ সচেতন হয়েছি, এই সময়ে সময়ে এক্সট্রা এ এক্টিভেটিস করার যথেষ্ট সময় পেয়েছি, কভিড-১৯ এ আক্রান্ত হয়েছি                                                                                             2\n",
              "স্বাস্থ সচেতন হয়েছি, অনলাইন বিজনেস এ লাভবান হয়েছি, পরিবারের সাথে দূরত্ব সৃষ্টি হয়েছে, পড়ালেখা বিঘ্নিত হয়েছে                                                                                          2\n",
              "অনলাইন বিজনেস এ লাভবান হয়েছি, পড়ালেখা বিঘ্নিত হয়েছে                                                                                                                                                  2\n",
              "স্বাস্থ সচেতন হয়েছি, এই সময়ে সময়ে এক্সট্রা এ এক্টিভেটিস করার যথেষ্ট সময় পেয়েছি, কভিড-১৯ এ আক্রান্ত হয়েছি, পরিবারের সাথে দূরত্ব সৃষ্টি হয়েছে, পড়ালেখা বিঘ্নিত হয়েছে                                   2\n",
              "স্বাস্থ সচেতন হয়েছি, অনলাইন বিজনেস এ লাভবান হয়েছি, পরিবারের সাথে দূরত্ব সৃষ্টি হয়েছে                                                                                                                 2\n",
              "স্বাস্থ সচেতন হয়েছি, অনলাইন বিজনেস এ লাভবান হয়েছি, এই সময়ে সময়ে এক্সট্রা এ এক্টিভেটিস করার যথেষ্ট সময় পেয়েছি, কভিড-১৯ এ আক্রান্ত হয়েছি                                                               2\n",
              "অনলাইন বিজনেস এ লাভবান হয়েছি, কভিড-১৯ এ আক্রান্ত হয়েছি, পরিবারের সাথে দূরত্ব সৃষ্টি হয়েছে, পড়ালেখা বিঘ্নিত হয়েছে                                                                                     1\n",
              "স্বাস্থ সচেতন হয়েছি, অনলাইন বিজনেস এ লাভবান হয়েছি, এই সময়ে সময়ে এক্সট্রা এ এক্টিভেটিস করার যথেষ্ট সময় পেয়েছি, পরিবারের সাথে দূরত্ব সৃষ্টি হয়েছে                                                      1\n",
              "এই সময়ে সময়ে এক্সট্রা এ এক্টিভেটিস করার যথেষ্ট সময় পেয়েছি, পরিবারের সাথে দূরত্ব সৃষ্টি হয়েছে, পড়ালেখা বিঘ্নিত হয়েছে                                                                                  1\n",
              "এই সময়ে সময়ে এক্সট্রা এ এক্টিভেটিস করার যথেষ্ট সময় পেয়েছি, কভিড-১৯ এ আক্রান্ত হয়েছি, পরিবারের সাথে দূরত্ব সৃষ্টি হয়েছে, পড়ালেখা বিঘ্নিত হয়েছে                                                        1\n",
              "অনলাইন বিজনেস এ লাভবান হয়েছি, কভিড-১৯ এ আক্রান্ত হয়েছি                                                                                                                                               1\n",
              "স্বাস্থ সচেতন হয়েছি, কভিড-১৯ এ আক্রান্ত হয়েছি, পরিবারের সাথে দূরত্ব সৃষ্টি হয়েছে                                                                                                                     1\n",
              "Name: TypeOfOpinion, dtype: int64"
            ]
          },
          "metadata": {
            "tags": []
          },
          "execution_count": 369
        }
      ]
    },
    {
      "cell_type": "code",
      "metadata": {
        "colab": {
          "base_uri": "https://localhost:8080/"
        },
        "id": "_nppBP-bJlxH",
        "outputId": "10537bc1-5252-44a2-f47c-850c7686a36c"
      },
      "source": [
        "df.isnull().sum()"
      ],
      "execution_count": null,
      "outputs": [
        {
          "output_type": "execute_result",
          "data": {
            "text/plain": [
              "TypeOfOpinion    0\n",
              "Status           0\n",
              "dtype: int64"
            ]
          },
          "metadata": {
            "tags": []
          },
          "execution_count": 370
        }
      ]
    },
    {
      "cell_type": "code",
      "metadata": {
        "colab": {
          "base_uri": "https://localhost:8080/",
          "height": 419
        },
        "id": "8nO0fvlzG971",
        "outputId": "64273fe1-db10-4a7d-9a6d-29b88442b972"
      },
      "source": [
        "df.dropna()"
      ],
      "execution_count": null,
      "outputs": [
        {
          "output_type": "execute_result",
          "data": {
            "text/html": [
              "<div>\n",
              "<style scoped>\n",
              "    .dataframe tbody tr th:only-of-type {\n",
              "        vertical-align: middle;\n",
              "    }\n",
              "\n",
              "    .dataframe tbody tr th {\n",
              "        vertical-align: top;\n",
              "    }\n",
              "\n",
              "    .dataframe thead th {\n",
              "        text-align: right;\n",
              "    }\n",
              "</style>\n",
              "<table border=\"1\" class=\"dataframe\">\n",
              "  <thead>\n",
              "    <tr style=\"text-align: right;\">\n",
              "      <th></th>\n",
              "      <th>TypeOfOpinion</th>\n",
              "      <th>Status</th>\n",
              "    </tr>\n",
              "  </thead>\n",
              "  <tbody>\n",
              "    <tr>\n",
              "      <th>0</th>\n",
              "      <td>স্বাস্থ সচেতন হয়েছি, এই সময়ে সময়ে এক্সট্রা এ এ...</td>\n",
              "      <td>1</td>\n",
              "    </tr>\n",
              "    <tr>\n",
              "      <th>1</th>\n",
              "      <td>স্বাস্থ সচেতন হয়েছি, এই সময়ে সময়ে এক্সট্রা এ এ...</td>\n",
              "      <td>1</td>\n",
              "    </tr>\n",
              "    <tr>\n",
              "      <th>2</th>\n",
              "      <td>স্বাস্থ সচেতন হয়েছি, এই সময়ে সময়ে এক্সট্রা এ এ...</td>\n",
              "      <td>0</td>\n",
              "    </tr>\n",
              "    <tr>\n",
              "      <th>3</th>\n",
              "      <td>পড়ালেখা বিঘ্নিত হয়েছে</td>\n",
              "      <td>1</td>\n",
              "    </tr>\n",
              "    <tr>\n",
              "      <th>4</th>\n",
              "      <td>স্বাস্থ সচেতন হয়েছি, পড়ালেখা বিঘ্নিত হয়েছে</td>\n",
              "      <td>1</td>\n",
              "    </tr>\n",
              "    <tr>\n",
              "      <th>...</th>\n",
              "      <td>...</td>\n",
              "      <td>...</td>\n",
              "    </tr>\n",
              "    <tr>\n",
              "      <th>438</th>\n",
              "      <td>স্বাস্থ সচেতন হয়েছি, অনলাইন বিজনেস এ লাভবান হয়...</td>\n",
              "      <td>1</td>\n",
              "    </tr>\n",
              "    <tr>\n",
              "      <th>439</th>\n",
              "      <td>স্বাস্থ সচেতন হয়েছি, অনলাইন বিজনেস এ লাভবান হয়...</td>\n",
              "      <td>1</td>\n",
              "    </tr>\n",
              "    <tr>\n",
              "      <th>440</th>\n",
              "      <td>স্বাস্থ সচেতন হয়েছি, অনলাইন বিজনেস এ লাভবান হয়...</td>\n",
              "      <td>1</td>\n",
              "    </tr>\n",
              "    <tr>\n",
              "      <th>441</th>\n",
              "      <td>পড়ালেখা বিঘ্নিত হয়েছে</td>\n",
              "      <td>1</td>\n",
              "    </tr>\n",
              "    <tr>\n",
              "      <th>442</th>\n",
              "      <td>কভিড-১৯ এ আক্রান্ত হয়েছি, পড়ালেখা বিঘ্নিত হয়েছে</td>\n",
              "      <td>1</td>\n",
              "    </tr>\n",
              "  </tbody>\n",
              "</table>\n",
              "<p>443 rows × 2 columns</p>\n",
              "</div>"
            ],
            "text/plain": [
              "                                         TypeOfOpinion  Status\n",
              "0    স্বাস্থ সচেতন হয়েছি, এই সময়ে সময়ে এক্সট্রা এ এ...       1\n",
              "1    স্বাস্থ সচেতন হয়েছি, এই সময়ে সময়ে এক্সট্রা এ এ...       1\n",
              "2    স্বাস্থ সচেতন হয়েছি, এই সময়ে সময়ে এক্সট্রা এ এ...       0\n",
              "3                                পড়ালেখা বিঘ্নিত হয়েছে       1\n",
              "4           স্বাস্থ সচেতন হয়েছি, পড়ালেখা বিঘ্নিত হয়েছে       1\n",
              "..                                                 ...     ...\n",
              "438  স্বাস্থ সচেতন হয়েছি, অনলাইন বিজনেস এ লাভবান হয়...       1\n",
              "439  স্বাস্থ সচেতন হয়েছি, অনলাইন বিজনেস এ লাভবান হয়...       1\n",
              "440  স্বাস্থ সচেতন হয়েছি, অনলাইন বিজনেস এ লাভবান হয়...       1\n",
              "441                              পড়ালেখা বিঘ্নিত হয়েছে       1\n",
              "442    কভিড-১৯ এ আক্রান্ত হয়েছি, পড়ালেখা বিঘ্নিত হয়েছে       1\n",
              "\n",
              "[443 rows x 2 columns]"
            ]
          },
          "metadata": {
            "tags": []
          },
          "execution_count": 371
        }
      ]
    },
    {
      "cell_type": "code",
      "metadata": {
        "colab": {
          "base_uri": "https://localhost:8080/"
        },
        "id": "S-59mGfLJ3gM",
        "outputId": "42a1219a-79f3-4f3e-a7ff-0e222445c2c6"
      },
      "source": [
        "for i in range(5):\n",
        "    print(\"Serial:\",i+1)\n",
        "    print(\"Text:\",df.TypeOfOpinion[i])\n",
        "  "
      ],
      "execution_count": null,
      "outputs": [
        {
          "output_type": "stream",
          "text": [
            "Serial: 1\n",
            "Text: স্বাস্থ সচেতন হয়েছি, এই সময়ে সময়ে এক্সট্রা এ এক্টিভেটিস করার যথেষ্ট সময় পেয়েছি, কভিড-১৯ এ আক্রান্ত হয়েছি, পড়ালেখা বিঘ্নিত হয়েছে\n",
            "Serial: 2\n",
            "Text: স্বাস্থ সচেতন হয়েছি, এই সময়ে সময়ে এক্সট্রা এ এক্টিভেটিস করার যথেষ্ট সময় পেয়েছি\n",
            "Serial: 3\n",
            "Text: স্বাস্থ সচেতন হয়েছি, এই সময়ে সময়ে এক্সট্রা এ এক্টিভেটিস করার যথেষ্ট সময় পেয়েছি, পড়ালেখা বিঘ্নিত হয়েছে\n",
            "Serial: 4\n",
            "Text: পড়ালেখা বিঘ্নিত হয়েছে\n",
            "Serial: 5\n",
            "Text: স্বাস্থ সচেতন হয়েছি, পড়ালেখা বিঘ্নিত হয়েছে\n"
          ],
          "name": "stdout"
        }
      ]
    },
    {
      "cell_type": "code",
      "metadata": {
        "id": "79LU_o6jMkPZ"
      },
      "source": [
        "import matplotlib.pyplot as plt\n",
        "import numpy as np\n",
        "import seaborn as sns\n",
        "%matplotlib inline"
      ],
      "execution_count": null,
      "outputs": []
    },
    {
      "cell_type": "code",
      "metadata": {
        "colab": {
          "base_uri": "https://localhost:8080/",
          "height": 282
        },
        "id": "kotRMLBNMucF",
        "outputId": "0946ca3c-86fb-496f-b2f9-5d97a6362099"
      },
      "source": [
        "df['Status'].plot(kind='hist')"
      ],
      "execution_count": null,
      "outputs": [
        {
          "output_type": "execute_result",
          "data": {
            "text/plain": [
              "<matplotlib.axes._subplots.AxesSubplot at 0x7ff117186e50>"
            ]
          },
          "metadata": {
            "tags": []
          },
          "execution_count": 374
        },
        {
          "output_type": "display_data",
          "data": {
            "image/png": "[encoded data removed]",
            "text/plain": [
              "<Figure size 432x288 with 1 Axes>"
            ]
          },
          "metadata": {
            "tags": [],
            "needs_background": "light"
          }
        }
      ]
    },
    {
      "cell_type": "code",
      "metadata": {
        "colab": {
          "base_uri": "https://localhost:8080/",
          "height": 411
        },
        "id": "zqP40tKRwuVl",
        "outputId": "35fbcd65-8116-4a14-aa8a-1afd04a31786"
      },
      "source": [
        "stas = ['YES', 'NO']\n",
        "\n",
        "data = [237,206]\n",
        "\n",
        "fig = plt.figure(figsize =(10, 7))\n",
        "plt.pie(data, labels = stas)\n",
        "\n",
        "\n",
        "plt.show()"
      ],
      "execution_count": null,
      "outputs": [
        {
          "output_type": "display_data",
          "data": {
            "image/png": "[encoded data removed]",
            "text/plain": [
              "<Figure size 720x504 with 1 Axes>"
            ]
          },
          "metadata": {
            "tags": []
          }
        }
      ]
    },
    {
      "cell_type": "code",
      "metadata": {
        "colab": {
          "base_uri": "https://localhost:8080/",
          "height": 359
        },
        "id": "u5KjEW9WNEVe",
        "outputId": "442188c4-3a73-42b7-e24c-571b64d3878d"
      },
      "source": [
        "df['length'] = df['TypeOfOpinion'].str.split().apply(len)\n",
        "df.head(10)"
      ],
      "execution_count": null,
      "outputs": [
        {
          "output_type": "execute_result",
          "data": {
            "text/html": [
              "<div>\n",
              "<style scoped>\n",
              "    .dataframe tbody tr th:only-of-type {\n",
              "        vertical-align: middle;\n",
              "    }\n",
              "\n",
              "    .dataframe tbody tr th {\n",
              "        vertical-align: top;\n",
              "    }\n",
              "\n",
              "    .dataframe thead th {\n",
              "        text-align: right;\n",
              "    }\n",
              "</style>\n",
              "<table border=\"1\" class=\"dataframe\">\n",
              "  <thead>\n",
              "    <tr style=\"text-align: right;\">\n",
              "      <th></th>\n",
              "      <th>TypeOfOpinion</th>\n",
              "      <th>Status</th>\n",
              "      <th>length</th>\n",
              "    </tr>\n",
              "  </thead>\n",
              "  <tbody>\n",
              "    <tr>\n",
              "      <th>0</th>\n",
              "      <td>স্বাস্থ সচেতন হয়েছি, এই সময়ে সময়ে এক্সট্রা এ এ...</td>\n",
              "      <td>1</td>\n",
              "      <td>20</td>\n",
              "    </tr>\n",
              "    <tr>\n",
              "      <th>1</th>\n",
              "      <td>স্বাস্থ সচেতন হয়েছি, এই সময়ে সময়ে এক্সট্রা এ এ...</td>\n",
              "      <td>1</td>\n",
              "      <td>13</td>\n",
              "    </tr>\n",
              "    <tr>\n",
              "      <th>2</th>\n",
              "      <td>স্বাস্থ সচেতন হয়েছি, এই সময়ে সময়ে এক্সট্রা এ এ...</td>\n",
              "      <td>0</td>\n",
              "      <td>16</td>\n",
              "    </tr>\n",
              "    <tr>\n",
              "      <th>3</th>\n",
              "      <td>পড়ালেখা বিঘ্নিত হয়েছে</td>\n",
              "      <td>1</td>\n",
              "      <td>3</td>\n",
              "    </tr>\n",
              "    <tr>\n",
              "      <th>4</th>\n",
              "      <td>স্বাস্থ সচেতন হয়েছি, পড়ালেখা বিঘ্নিত হয়েছে</td>\n",
              "      <td>1</td>\n",
              "      <td>6</td>\n",
              "    </tr>\n",
              "    <tr>\n",
              "      <th>5</th>\n",
              "      <td>স্বাস্থ সচেতন হয়েছি</td>\n",
              "      <td>0</td>\n",
              "      <td>3</td>\n",
              "    </tr>\n",
              "    <tr>\n",
              "      <th>6</th>\n",
              "      <td>স্বাস্থ সচেতন হয়েছি, পড়ালেখা বিঘ্নিত হয়েছে</td>\n",
              "      <td>0</td>\n",
              "      <td>6</td>\n",
              "    </tr>\n",
              "    <tr>\n",
              "      <th>7</th>\n",
              "      <td>স্বাস্থ সচেতন হয়েছি, এই সময়ে সময়ে এক্সট্রা এ এ...</td>\n",
              "      <td>1</td>\n",
              "      <td>13</td>\n",
              "    </tr>\n",
              "    <tr>\n",
              "      <th>8</th>\n",
              "      <td>স্বাস্থ সচেতন হয়েছি</td>\n",
              "      <td>0</td>\n",
              "      <td>3</td>\n",
              "    </tr>\n",
              "    <tr>\n",
              "      <th>9</th>\n",
              "      <td>স্বাস্থ সচেতন হয়েছি</td>\n",
              "      <td>0</td>\n",
              "      <td>3</td>\n",
              "    </tr>\n",
              "  </tbody>\n",
              "</table>\n",
              "</div>"
            ],
            "text/plain": [
              "                                       TypeOfOpinion  Status  length\n",
              "0  স্বাস্থ সচেতন হয়েছি, এই সময়ে সময়ে এক্সট্রা এ এ...       1      20\n",
              "1  স্বাস্থ সচেতন হয়েছি, এই সময়ে সময়ে এক্সট্রা এ এ...       1      13\n",
              "2  স্বাস্থ সচেতন হয়েছি, এই সময়ে সময়ে এক্সট্রা এ এ...       0      16\n",
              "3                              পড়ালেখা বিঘ্নিত হয়েছে       1       3\n",
              "4         স্বাস্থ সচেতন হয়েছি, পড়ালেখা বিঘ্নিত হয়েছে       1       6\n",
              "5                                স্বাস্থ সচেতন হয়েছি       0       3\n",
              "6         স্বাস্থ সচেতন হয়েছি, পড়ালেখা বিঘ্নিত হয়েছে       0       6\n",
              "7  স্বাস্থ সচেতন হয়েছি, এই সময়ে সময়ে এক্সট্রা এ এ...       1      13\n",
              "8                                স্বাস্থ সচেতন হয়েছি       0       3\n",
              "9                                স্বাস্থ সচেতন হয়েছি       0       3"
            ]
          },
          "metadata": {
            "tags": []
          },
          "execution_count": 376
        }
      ]
    },
    {
      "cell_type": "code",
      "metadata": {
        "colab": {
          "base_uri": "https://localhost:8080/",
          "height": 388
        },
        "id": "jiNLTSASObsQ",
        "outputId": "451f2e2c-f295-4b9d-d698-3f98d25f733f"
      },
      "source": [
        "df.hist(column='length', by='Status', bins=50,figsize=(10,5))"
      ],
      "execution_count": null,
      "outputs": [
        {
          "output_type": "execute_result",
          "data": {
            "text/plain": [
              "array([<matplotlib.axes._subplots.AxesSubplot object at 0x7ff1171672d0>,\n",
              "       <matplotlib.axes._subplots.AxesSubplot object at 0x7ff1170fce10>],\n",
              "      dtype=object)"
            ]
          },
          "metadata": {
            "tags": []
          },
          "execution_count": 377
        },
        {
          "output_type": "display_data",
          "data": {
            "image/png": "[encoded data removed]",
            "text/plain": [
              "<Figure size 720x360 with 2 Axes>"
            ]
          },
          "metadata": {
            "tags": [],
            "needs_background": "light"
          }
        }
      ]
    },
    {
      "cell_type": "code",
      "metadata": {
        "colab": {
          "base_uri": "https://localhost:8080/"
        },
        "id": "3LPkPO7NPr9F",
        "outputId": "9ccfa89c-1d24-44be-b349-bab76f7311d6"
      },
      "source": [
        "df.length.describe()"
      ],
      "execution_count": null,
      "outputs": [
        {
          "output_type": "execute_result",
          "data": {
            "text/plain": [
              "count    443.000000\n",
              "mean      10.112867\n",
              "std        6.333556\n",
              "min        3.000000\n",
              "25%        5.000000\n",
              "50%        8.000000\n",
              "75%       16.000000\n",
              "max       30.000000\n",
              "Name: length, dtype: float64"
            ]
          },
          "metadata": {
            "tags": []
          },
          "execution_count": 378
        }
      ]
    },
    {
      "cell_type": "code",
      "metadata": {
        "id": "7q_M3De81h6U"
      },
      "source": [
        "import matplotlib.pyplot as plt\n",
        "import seaborn as sns\n",
        "import nltk\n",
        "from nltk.corpus import stopwords\n",
        "import string\n",
        "import math\n",
        "from sklearn.feature_extraction.text import CountVectorizer\n",
        "from sklearn.model_selection import train_test_split, cross_val_score\n",
        "from sklearn.model_selection import GridSearchCV\n",
        "from sklearn.metrics import confusion_matrix, classification_report, log_loss, cohen_kappa_score, roc_auc_score, roc_curve\n",
        "from sklearn import metrics\n",
        "%matplotlib inline"
      ],
      "execution_count": null,
      "outputs": []
    },
    {
      "cell_type": "code",
      "metadata": {
        "id": "J_Hq-Z5ILBFA"
      },
      "source": [
        "import string \n",
        "def remove_punc(s):\n",
        "    table = str.maketrans({key: None for key in string.punctuation})\n",
        "    return s.translate(table)"
      ],
      "execution_count": null,
      "outputs": []
    },
    {
      "cell_type": "code",
      "metadata": {
        "colab": {
          "base_uri": "https://localhost:8080/"
        },
        "id": "OFw0-Xw1FNDw",
        "outputId": "6cdd162c-d1bb-4ac5-ecaf-c91b5d122019"
      },
      "source": [
        "x = df['TypeOfOpinion'].fillna(' ')\n",
        "y = df['Status']\n",
        "print(x.head())\n",
        "print(y.head())"
      ],
      "execution_count": null,
      "outputs": [
        {
          "output_type": "stream",
          "text": [
            "0    স্বাস্থ সচেতন হয়েছি, এই সময়ে সময়ে এক্সট্রা এ এ...\n",
            "1    স্বাস্থ সচেতন হয়েছি, এই সময়ে সময়ে এক্সট্রা এ এ...\n",
            "2    স্বাস্থ সচেতন হয়েছি, এই সময়ে সময়ে এক্সট্রা এ এ...\n",
            "3                                পড়ালেখা বিঘ্নিত হয়েছে\n",
            "4           স্বাস্থ সচেতন হয়েছি, পড়ালেখা বিঘ্নিত হয়েছে\n",
            "Name: TypeOfOpinion, dtype: object\n",
            "0    1\n",
            "1    1\n",
            "2    0\n",
            "3    1\n",
            "4    1\n",
            "Name: Status, dtype: int64\n"
          ],
          "name": "stdout"
        }
      ]
    },
    {
      "cell_type": "code",
      "metadata": {
        "colab": {
          "base_uri": "https://localhost:8080/"
        },
        "id": "MrWbwzbCLI84",
        "outputId": "d206d22c-40e7-4959-8808-1409a7c0dd28"
      },
      "source": [
        "x = df['TypeOfOpinion'].apply(remove_punc)\n",
        "x.shape"
      ],
      "execution_count": null,
      "outputs": [
        {
          "output_type": "execute_result",
          "data": {
            "text/plain": [
              "(443,)"
            ]
          },
          "metadata": {
            "tags": []
          },
          "execution_count": 382
        }
      ]
    },
    {
      "cell_type": "code",
      "metadata": {
        "id": "7VtnWPku9wjd"
      },
      "source": [
        "contractions = { \n",
        "\"বি.দ্র \": \"বিশেষ দ্রষ্টব্য\",\n",
        "\"ড.\": \"ডক্টর\",\n",
        "\"ডা.\": \"ডাক্তার\",\n",
        "\"ইঞ্জি:\": \"ইঞ্জিনিয়ার\",\n",
        "\"রেজি:\": \"রেজিস্ট্রেশন\",\n",
        "\"মি.\": \"মিস্টার\",\n",
        "\"মু.\": \"মুহাম্মদ\",\n",
        "\"মো.\": \"মোহাম্মদ\",\n",
        "}"
      ],
      "execution_count": null,
      "outputs": []
    },
    {
      "cell_type": "code",
      "metadata": {
        "id": "g8clNtSHSIl8"
      },
      "source": [
        "import re\n",
        "import string\n",
        "from collections import Counter\n",
        "vocab = Counter()\n",
        "def clean_text(x,remove_stopwords = True):\n",
        "    if True:\n",
        "        new_text = []\n",
        "        for word in x:\n",
        "            if word in contractions:\n",
        "                new_text.append(contractions[word])\n",
        "            else:\n",
        "                new_text.append(word)\n",
        "        x = \" \".join(new_text)\n",
        "    # Format words and remove unwanted characters\n",
        "    whitespace = re.compile(u\"[\\s\\u0020\\u00a0\\u1680\\u180e\\u202f\\u205f\\u3000\\u2000-\\u200a]+\", re.UNICODE)\n",
        "    bangla_digits = u\"[\\u09E6\\u09E7\\u09E8\\u09E9\\u09EA\\u09EB\\u09EC\\u09ED\\u09EE\\u09EF]+\"\n",
        "    english_chars = u\"[a-zA-Z0-9]\"\n",
        "    punc = u\"[(),$%^&*+={}\\[\\]:\\\"|\\'\\~`<>/,¦!?½£¶¼©⅐⅑⅒⅓⅔⅕⅖⅗⅘⅙⅚⅛⅜⅝⅞⅟↉¤¿º;-]+\"\n",
        "    bangla_fullstop = u\"\\u0964\"     #bangla fullstop(dari)\n",
        "    punctSeq   = u\"['\\\"“”‘’]+|[.?!,…]+|[:;]+\"\n",
        "    \n",
        "    x = re.sub(bangla_digits, \" \", x)\n",
        "    x = re.sub(punc, \" \", x)\n",
        "    x = re.sub(english_chars, \" \", x)\n",
        "    x = re.sub(bangla_fullstop, \" \", x)\n",
        "    x = re.sub(punctSeq, \" \", x)\n",
        "    x = whitespace.sub(\" \", x).strip()\n",
        "    \n",
        "    x = re.sub(r'https?:\\/\\/.*[\\r\\n]*', '', x, flags=re.MULTILINE)\n",
        "    x = re.sub(r'\\<a href', ' ', x)\n",
        "    x = re.sub(r'&amp;‘:‘ ’', '', x) \n",
        "    x = re.sub(r'[_\"\\-;%()|+&=*%.,!?:#$@\\[\\]/]। ,', ' ', x)\n",
        "    x = re.sub(r'<br />', ' ', x)\n",
        "    x = re.sub(r'\\'', ' ', x)\n",
        "    x = re.sub(r\"[\\@$#%~+-\\.\\'।\\\"]\",\" \",x)\n",
        "    x = re.sub(r\"(?m)^\\s+\", \"\", x)\n",
        "    x = re.sub(\"[()]\",\"\",x)\n",
        "    x = re.sub(\"[‘’]\",\"\",x)\n",
        "    x = re.sub(\"[!]\",\"\",x)\n",
        "    x = re.sub(\"[/]\",\"\",x)\n",
        "    x = re.sub(\"[:]\",\"\",x)\n",
        "    x = re.sub('\\ |\\?|\\.|\\!|\\/|\\;|\\:', ' ',x)\n",
        "    x = x.strip(\"/\")\n",
        "    \n",
        "    if remove_stopwords:\n",
        "        k = []\n",
        "        with open('/content/drive/MyDrive/Research/NLP/Banglastopword.txt', 'r',encoding=\"utf-8\") as f:\n",
        "            for word in f:\n",
        "                word = word.split()\n",
        "                k.append(word[0])\n",
        "            x = [t for t in x if t not in k]\n",
        "            x = \"\".join(x)\n",
        "   \n",
        "\n",
        "    return x"
      ],
      "execution_count": null,
      "outputs": []
    },
    {
      "cell_type": "code",
      "metadata": {
        "id": "OqpjMzwppjce"
      },
      "source": [
        "vocab = CountVectorizer(ngram_range=(1,1),analyzer='word',encoding='utf-8').fit(x)"
      ],
      "execution_count": null,
      "outputs": []
    },
    {
      "cell_type": "code",
      "metadata": {
        "colab": {
          "base_uri": "https://localhost:8080/"
        },
        "id": "qVpQ5VJPpjob",
        "outputId": "293a4ac6-225d-48cf-f263-d4348f85ce95"
      },
      "source": [
        "print(vocab.vocabulary_)\n",
        "\n",
        "print(\"\\n\")\n",
        "\n",
        "x = vocab.transform(x) \n",
        "print(x.toarray())\n",
        "\n",
        "print(\"\\n\")\n",
        "\n",
        "print(vocab.get_feature_names())"
      ],
      "execution_count": null,
      "outputs": [
        {
          "output_type": "stream",
          "text": [
            "{'সচ': 15, 'তন': 9, 'হয়': 18, 'এই': 3, 'সময়': 17, 'এক': 4, 'সট': 16, 'কর': 6, 'যথ': 13, 'কভ': 5, 'ড১৯': 8, 'আক': 1, 'পড়': 11, 'অনল': 0, 'ইন': 2, 'জন': 7, 'ভব': 12, 'পর': 10, 'রত': 14}\n",
            "\n",
            "\n",
            "[[0 1 0 ... 1 3 3]\n",
            " [0 0 0 ... 1 3 1]\n",
            " [0 0 0 ... 1 3 2]\n",
            " ...\n",
            " [1 0 1 ... 1 3 3]\n",
            " [0 0 0 ... 0 0 1]\n",
            " [0 1 0 ... 0 0 2]]\n",
            "\n",
            "\n",
            "['অনল', 'আক', 'ইন', 'এই', 'এক', 'কভ', 'কর', 'জন', 'ড১৯', 'তন', 'পর', 'পড়', 'ভব', 'যথ', 'রত', 'সচ', 'সট', 'সময়', 'হয়']\n"
          ],
          "name": "stdout"
        }
      ]
    },
    {
      "cell_type": "code",
      "metadata": {
        "colab": {
          "base_uri": "https://localhost:8080/"
        },
        "id": "rVOJGnW8sTD6",
        "outputId": "c3a50650-a573-4584-da77-9c968bb4a91c"
      },
      "source": [
        "print(\"Shape of the sparse matrix: \", x.shape)\n",
        "print(\"Non-Zero occurences: \",x.nnz)\n",
        "density = (x.nnz/(x.shape[0]*x.shape[1]))*100\n",
        "print(\"Density of the matrix = \",density)"
      ],
      "execution_count": null,
      "outputs": [
        {
          "output_type": "stream",
          "text": [
            "Shape of the sparse matrix:  (443, 19)\n",
            "Non-Zero occurences:  3038\n",
            "Density of the matrix =  36.093620054651296\n"
          ],
          "name": "stdout"
        }
      ]
    },
    {
      "cell_type": "markdown",
      "metadata": {
        "id": "lsaEyphFGkPC"
      },
      "source": [
        "**Train Test & Split**"
      ]
    },
    {
      "cell_type": "code",
      "metadata": {
        "id": "qWj40yR0sTGH"
      },
      "source": [
        "x_train,x_test,y_train,y_test = train_test_split(x,y,test_size=0.10,random_state=0)"
      ],
      "execution_count": null,
      "outputs": []
    },
    {
      "cell_type": "code",
      "metadata": {
        "id": "8Dt4ec54sTIZ",
        "colab": {
          "base_uri": "https://localhost:8080/",
          "height": 863
        },
        "outputId": "1642f528-26d5-4f5e-b8e6-90ccd8c9d461"
      },
      "source": [
        "from sklearn.naive_bayes import MultinomialNB\n",
        "mnb = MultinomialNB()\n",
        "mnb.fit(x_train,y_train)\n",
        "print('Confusion matrix of model is :')\n",
        "cm = confusion_matrix(y_test,mnb.predict(x_test))\n",
        "TP = cm[0][0]\n",
        "TN = cm[1][1]\n",
        "FP = cm[0][1]\n",
        "FN = cm[1][0]\n",
        "print(cm)\n",
        "print()\n",
        "result1 = classification_report(y_test, mnb.predict(x_test))\n",
        "print(\"Classification Report : \",)\n",
        "print (result1)\n",
        "print()\n",
        "var1 = ((TP + TN)/(TP + TN + FP + FN)) *100\n",
        "print('Testing accuracy : ',var1)\n",
        "print('Sensitivity : ', TP/(TP+FN))\n",
        "print('Specificity : ', TN/(TN+FP))\n",
        "print('false positive rate : ', FP/(FP+TN))\n",
        "print('false negative rate : ', FN/(FN+TP))\n",
        "print('Negative Predictive Value : ', TN/(TN+FN))\n",
        "print('False Discovery rate : ', FP/(TP+FP))\n",
        "print('Mean Absolute Error:', metrics.mean_absolute_error(y_test,mnb.predict(x_test)))\n",
        "print('Mean Squared Error:', metrics.mean_squared_error(y_test, mnb.predict(x_test)))\n",
        "print('Root Mean Squared Error:', np.sqrt(metrics.mean_squared_error(y_test,mnb.predict(x_test))))\n",
        "print('Log_Loss:', metrics.log_loss(y_test,mnb.predict(x_test)))\n",
        "print('Cohen_Kappa_Score:', cohen_kappa_score(y_test, mnb.predict(x_test)))\n",
        "\n",
        "print()\n",
        "print()\n",
        "name = ['Multinomial Naive Bayes']\n",
        "col_value = ['#95a5a6']\n",
        "model_accuracy = pd.Series(data=[var], index=[name[0]])\n",
        "fig = plt.figure(figsize=(5,5))\n",
        "width = 0.75 \n",
        "model_accuracy.sort_values().plot.bar(alpha=0.8, color=[col_value[0]])\n",
        "plt.xticks(rotation=0)\n",
        "plt.title('Model Accracy')\n",
        "plt.ylabel('Accuracy (%)')\n",
        "plt.show()\n",
        "print()\n",
        "print()"
      ],
      "execution_count": null,
      "outputs": [
        {
          "output_type": "stream",
          "text": [
            "Confusion matrix of model is :\n",
            "[[13  9]\n",
            " [ 2 21]]\n",
            "\n",
            "Classification Report : \n",
            "              precision    recall  f1-score   support\n",
            "\n",
            "           0       0.87      0.59      0.70        22\n",
            "           1       0.70      0.91      0.79        23\n",
            "\n",
            "    accuracy                           0.76        45\n",
            "   macro avg       0.78      0.75      0.75        45\n",
            "weighted avg       0.78      0.76      0.75        45\n",
            "\n",
            "\n",
            "Testing accuracy :  75.55555555555556\n",
            "Sensitivity :  0.8666666666666667\n",
            "Specificity :  0.7\n",
            "false positive rate :  0.3\n",
            "false negative rate :  0.13333333333333333\n",
            "Negative Predictive Value :  0.9130434782608695\n",
            "False Discovery rate :  0.4090909090909091\n",
            "Mean Absolute Error: 0.24444444444444444\n",
            "Mean Squared Error: 0.24444444444444444\n",
            "Root Mean Squared Error: 0.4944132324730442\n",
            "Log_Loss: 8.442971927130873\n",
            "Cohen_Kappa_Score: 0.5074626865671641\n",
            "\n",
            "\n"
          ],
          "name": "stdout"
        },
        {
          "output_type": "display_data",
          "data": {
            "image/png": "[encoded data removed]",
            "text/plain": [
              "<Figure size 360x360 with 1 Axes>"
            ]
          },
          "metadata": {
            "tags": [],
            "needs_background": "light"
          }
        },
        {
          "output_type": "stream",
          "text": [
            "\n",
            "\n"
          ],
          "name": "stdout"
        }
      ]
    },
    {
      "cell_type": "code",
      "metadata": {
        "id": "57e4diOWsTNm",
        "colab": {
          "base_uri": "https://localhost:8080/",
          "height": 863
        },
        "outputId": "696228e7-584d-4e06-f82a-8b7646eff99f"
      },
      "source": [
        "from sklearn.ensemble import RandomForestClassifier\n",
        "rmfr = RandomForestClassifier()\n",
        "rmfr.fit(x_train,y_train)\n",
        "print('Confusion matrix of model is :')\n",
        "cm = confusion_matrix(y_test,rmfr.predict(x_test))\n",
        "TP = cm[0][0]\n",
        "TN = cm[1][1]\n",
        "FP = cm[0][1]\n",
        "FN = cm[1][0]\n",
        "print(cm)\n",
        "print()\n",
        "result1 = classification_report(y_test, rmfr.predict(x_test))\n",
        "print(\"Classification Report : \",)\n",
        "print (result1)\n",
        "print()\n",
        "var2 = ((TP + TN)/(TP + TN + FP + FN)) *100\n",
        "print('Testing accuracy : ',var2)\n",
        "print('Sensitivity : ', TP/(TP+FN))\n",
        "print('Specificity : ', TN/(TN+FP))\n",
        "print('false positive rate : ', FP/(FP+TN))\n",
        "print('false negative rate : ', FN/(FN+TP))\n",
        "print('Negative Predictive Value : ', TN/(TN+FN))\n",
        "print('False Discovery rate : ', FP/(TP+FP))\n",
        "print('Mean Absolute Error:', metrics.mean_absolute_error(y_test,rmfr.predict(x_test)))\n",
        "print('Mean Squared Error:', metrics.mean_squared_error(y_test, rmfr.predict(x_test)))\n",
        "print('Root Mean Squared Error:', np.sqrt(metrics.mean_squared_error(y_test,rmfr.predict(x_test))))\n",
        "print('Log_Loss:', metrics.log_loss(y_test,rmfr.predict(x_test)))\n",
        "print('Cohen_Kappa_Score:', cohen_kappa_score(y_test, rmfr.predict(x_test)))\n",
        "\n",
        "print()\n",
        "print()\n",
        "name = ['RandomForest']\n",
        "col_value = ['red']\n",
        "model_accuracy = pd.Series(data=[var], index=[name[0]])\n",
        "fig = plt.figure(figsize=(5,5))\n",
        "width = 0.75 \n",
        "model_accuracy.sort_values().plot.bar(alpha=0.8, color=[col_value[0]])\n",
        "plt.xticks(rotation=0)\n",
        "plt.title('Model Accracy')\n",
        "plt.ylabel('Accuracy (%)')\n",
        "plt.show()\n",
        "print()\n",
        "print()"
      ],
      "execution_count": null,
      "outputs": [
        {
          "output_type": "stream",
          "text": [
            "Confusion matrix of model is :\n",
            "[[20  2]\n",
            " [ 2 21]]\n",
            "\n",
            "Classification Report : \n",
            "              precision    recall  f1-score   support\n",
            "\n",
            "           0       0.91      0.91      0.91        22\n",
            "           1       0.91      0.91      0.91        23\n",
            "\n",
            "    accuracy                           0.91        45\n",
            "   macro avg       0.91      0.91      0.91        45\n",
            "weighted avg       0.91      0.91      0.91        45\n",
            "\n",
            "\n",
            "Testing accuracy :  91.11111111111111\n",
            "Sensitivity :  0.9090909090909091\n",
            "Specificity :  0.9130434782608695\n",
            "false positive rate :  0.08695652173913043\n",
            "false negative rate :  0.09090909090909091\n",
            "Negative Predictive Value :  0.9130434782608695\n",
            "False Discovery rate :  0.09090909090909091\n",
            "Mean Absolute Error: 0.08888888888888889\n",
            "Mean Squared Error: 0.08888888888888889\n",
            "Root Mean Squared Error: 0.29814239699997197\n",
            "Log_Loss: 3.0701489949889593\n",
            "Cohen_Kappa_Score: 0.8221343873517787\n",
            "\n",
            "\n"
          ],
          "name": "stdout"
        },
        {
          "output_type": "display_data",
          "data": {
            "image/png": "[encoded data removed]",
            "text/plain": [
              "<Figure size 360x360 with 1 Axes>"
            ]
          },
          "metadata": {
            "tags": [],
            "needs_background": "light"
          }
        },
        {
          "output_type": "stream",
          "text": [
            "\n",
            "\n"
          ],
          "name": "stdout"
        }
      ]
    },
    {
      "cell_type": "code",
      "metadata": {
        "id": "0zQL4TM1srq4",
        "colab": {
          "base_uri": "https://localhost:8080/",
          "height": 863
        },
        "outputId": "3cf40c02-8409-4f60-8d9e-dee60b3029e8"
      },
      "source": [
        "from sklearn.tree import DecisionTreeClassifier\n",
        "dt = DecisionTreeClassifier()\n",
        "dt.fit(x_train,y_train)\n",
        "print('Confusion matrix of model is :')\n",
        "cm = confusion_matrix(y_test,dt.predict(x_test))\n",
        "TP = cm[0][0]\n",
        "TN = cm[1][1]\n",
        "FP = cm[0][1]\n",
        "FN = cm[1][0]\n",
        "print(cm)\n",
        "print()\n",
        "result1 = classification_report(y_test, dt.predict(x_test))\n",
        "print(\"Classification Report : \",)\n",
        "print (result1)\n",
        "print()\n",
        "var3 = ((TP + TN)/(TP + TN + FP + FN)) *100\n",
        "print('Testing accuracy : ',var3)\n",
        "print('Sensitivity : ', TP/(TP+FN))\n",
        "print('Specificity : ', TN/(TN+FP))\n",
        "print('false positive rate : ', FP/(FP+TN))\n",
        "print('false negative rate : ', FN/(FN+TP))\n",
        "print('Negative Predictive Value : ', TN/(TN+FN))\n",
        "print('False Discovery rate : ', FP/(TP+FP))\n",
        "print('Mean Absolute Error:', metrics.mean_absolute_error(y_test,dt.predict(x_test)))\n",
        "print('Mean Squared Error:', metrics.mean_squared_error(y_test, dt.predict(x_test)))\n",
        "print('Root Mean Squared Error:', np.sqrt(metrics.mean_squared_error(y_test,dt.predict(x_test))))\n",
        "print('Log_Loss:', metrics.log_loss(y_test,dt.predict(x_test)))\n",
        "print('Cohen_Kappa_Score:', cohen_kappa_score(y_test, dt.predict(x_test)))\n",
        "\n",
        "print()\n",
        "print()\n",
        "name = ['DecisionTree']\n",
        "col_value = ['#9b59b6']\n",
        "model_accuracy = pd.Series(data=[var], index=[name[0]])\n",
        "fig = plt.figure(figsize=(5,5))\n",
        "width = 0.75 \n",
        "model_accuracy.sort_values().plot.bar(alpha=0.8, color=[col_value[0]])\n",
        "plt.xticks(rotation=0)\n",
        "plt.title('Model Accracy')\n",
        "plt.ylabel('Accuracy (%)')\n",
        "plt.show()\n",
        "print()\n",
        "print()"
      ],
      "execution_count": null,
      "outputs": [
        {
          "output_type": "stream",
          "text": [
            "Confusion matrix of model is :\n",
            "[[20  2]\n",
            " [ 3 20]]\n",
            "\n",
            "Classification Report : \n",
            "              precision    recall  f1-score   support\n",
            "\n",
            "           0       0.87      0.91      0.89        22\n",
            "           1       0.91      0.87      0.89        23\n",
            "\n",
            "    accuracy                           0.89        45\n",
            "   macro avg       0.89      0.89      0.89        45\n",
            "weighted avg       0.89      0.89      0.89        45\n",
            "\n",
            "\n",
            "Testing accuracy :  88.88888888888889\n",
            "Sensitivity :  0.8695652173913043\n",
            "Specificity :  0.9090909090909091\n",
            "false positive rate :  0.09090909090909091\n",
            "false negative rate :  0.13043478260869565\n",
            "Negative Predictive Value :  0.8695652173913043\n",
            "False Discovery rate :  0.09090909090909091\n",
            "Mean Absolute Error: 0.1111111111111111\n",
            "Mean Squared Error: 0.1111111111111111\n",
            "Root Mean Squared Error: 0.3333333333333333\n",
            "Log_Loss: 3.837677359320307\n",
            "Cohen_Kappa_Score: 0.7778874629812438\n",
            "\n",
            "\n"
          ],
          "name": "stdout"
        },
        {
          "output_type": "display_data",
          "data": {
            "image/png": "[encoded data removed]",
            "text/plain": [
              "<Figure size 360x360 with 1 Axes>"
            ]
          },
          "metadata": {
            "tags": [],
            "needs_background": "light"
          }
        },
        {
          "output_type": "stream",
          "text": [
            "\n",
            "\n"
          ],
          "name": "stdout"
        }
      ]
    },
    {
      "cell_type": "code",
      "metadata": {
        "id": "T-MuS53ksr27",
        "colab": {
          "base_uri": "https://localhost:8080/",
          "height": 863
        },
        "outputId": "ea826a6a-2b08-4a00-ae75-74a5654d26a0"
      },
      "source": [
        "from sklearn.svm import SVC\n",
        "import pickle\n",
        "svm = SVC()\n",
        "svm.fit(x_train,y_train)\n",
        "print('Confusion matrix of model is :')\n",
        "cm = confusion_matrix(y_test,svm.predict(x_test))\n",
        "TP = cm[0][0]\n",
        "TN = cm[1][1]\n",
        "FP = cm[0][1]\n",
        "FN = cm[1][0]\n",
        "print(cm)\n",
        "print()\n",
        "result1 = classification_report(y_test, svm.predict(x_test))\n",
        "print(\"Classification Report : \",)\n",
        "print (result1)\n",
        "print()\n",
        "var4 = ((TP + TN)/(TP + TN + FP + FN)) *100\n",
        "print('Testing accuracy : ',var4)\n",
        "print('Sensitivity : ', TP/(TP+FN))\n",
        "print('Specificity : ', TN/(TN+FP))\n",
        "print('false positive rate : ', FP/(FP+TN))\n",
        "print('false negative rate : ', FN/(FN+TP))\n",
        "print('Negative Predictive Value : ', TN/(TN+FN))\n",
        "print('False Discovery rate : ', FP/(TP+FP))\n",
        "print('Mean Absolute Error:', metrics.mean_absolute_error(y_test,svm.predict(x_test)))\n",
        "print('Mean Squared Error:', metrics.mean_squared_error(y_test, svm.predict(x_test)))\n",
        "print('Root Mean Squared Error:', np.sqrt(metrics.mean_squared_error(y_test,svm.predict(x_test))))\n",
        "print('Log_Loss:', metrics.log_loss(y_test,svm.predict(x_test)))\n",
        "print('Cohen_Kappa_Score:', cohen_kappa_score(y_test, svm.predict(x_test)))\n",
        "\n",
        "print()\n",
        "print()\n",
        "name = ['Support Vector Clasiffier']\n",
        "col_value = ['blue']\n",
        "model_accuracy = pd.Series(data=[var], index=[name[0]])\n",
        "fig = plt.figure(figsize=(5,5))\n",
        "width = 0.75 \n",
        "model_accuracy.sort_values().plot.bar(alpha=0.8, color=[col_value[0]])\n",
        "plt.xticks(rotation=0)\n",
        "plt.title('Model Accracy')\n",
        "plt.ylabel('Accuracy (%)')\n",
        "plt.show()\n",
        "print()\n",
        "print()"
      ],
      "execution_count": null,
      "outputs": [
        {
          "output_type": "stream",
          "text": [
            "Confusion matrix of model is :\n",
            "[[19  3]\n",
            " [ 2 21]]\n",
            "\n",
            "Classification Report : \n",
            "              precision    recall  f1-score   support\n",
            "\n",
            "           0       0.90      0.86      0.88        22\n",
            "           1       0.88      0.91      0.89        23\n",
            "\n",
            "    accuracy                           0.89        45\n",
            "   macro avg       0.89      0.89      0.89        45\n",
            "weighted avg       0.89      0.89      0.89        45\n",
            "\n",
            "\n",
            "Testing accuracy :  88.88888888888889\n",
            "Sensitivity :  0.9047619047619048\n",
            "Specificity :  0.875\n",
            "false positive rate :  0.125\n",
            "false negative rate :  0.09523809523809523\n",
            "Negative Predictive Value :  0.9130434782608695\n",
            "False Discovery rate :  0.13636363636363635\n",
            "Mean Absolute Error: 0.1111111111111111\n",
            "Mean Squared Error: 0.1111111111111111\n",
            "Root Mean Squared Error: 0.3333333333333333\n",
            "Log_Loss: 3.837695128152089\n",
            "Cohen_Kappa_Score: 0.7774480712166172\n",
            "\n",
            "\n"
          ],
          "name": "stdout"
        },
        {
          "output_type": "display_data",
          "data": {
            "image/png": "[encoded data removed]",
            "text/plain": [
              "<Figure size 360x360 with 1 Axes>"
            ]
          },
          "metadata": {
            "tags": [],
            "needs_background": "light"
          }
        },
        {
          "output_type": "stream",
          "text": [
            "\n",
            "\n"
          ],
          "name": "stdout"
        }
      ]
    },
    {
      "cell_type": "code",
      "metadata": {
        "id": "yWLhJXzis3-w",
        "colab": {
          "base_uri": "https://localhost:8080/",
          "height": 863
        },
        "outputId": "6430812e-7079-49c5-c79a-c9d71da4943b"
      },
      "source": [
        "from sklearn.neighbors import KNeighborsClassifier\n",
        "knn = KNeighborsClassifier(n_neighbors=10)\n",
        "knn.fit(x_train,y_train)\n",
        "print('Confusion matrix of model is :')\n",
        "cm = confusion_matrix(y_test,knn.predict(x_test))\n",
        "TP = cm[0][0]\n",
        "TN = cm[1][1]\n",
        "FP = cm[0][1]\n",
        "FN = cm[1][0]\n",
        "print(cm)\n",
        "print()\n",
        "result1 = classification_report(y_test, knn.predict(x_test))\n",
        "print(\"Classification Report : \",)\n",
        "print (result1)\n",
        "print()\n",
        "var5 = ((TP + TN)/(TP + TN + FP + FN)) *100\n",
        "print('Testing accuracy : ',var5)\n",
        "print('Sensitivity : ', TP/(TP+FN))\n",
        "print('Specificity : ', TN/(TN+FP))\n",
        "print('false positive rate : ', FP/(FP+TN))\n",
        "print('false negative rate : ', FN/(FN+TP))\n",
        "print('Negative Predictive Value : ', TN/(TN+FN))\n",
        "print('False Discovery rate : ', FP/(TP+FP))\n",
        "print('Mean Absolute Error:', metrics.mean_absolute_error(y_test,knn.predict(x_test)))\n",
        "print('Mean Squared Error:', metrics.mean_squared_error(y_test, knn.predict(x_test)))\n",
        "print('Root Mean Squared Error:', np.sqrt(metrics.mean_squared_error(y_test,knn.predict(x_test))))\n",
        "print('Log_Loss:', metrics.log_loss(y_test,knn.predict(x_test)))\n",
        "print('Cohen_Kappa_Score:', cohen_kappa_score(y_test, knn.predict(x_test)))\n",
        "\n",
        "print()\n",
        "print()\n",
        "name = ['K-NN']\n",
        "col_value = ['#7fcdbb']\n",
        "model_accuracy = pd.Series(data=[var], index=[name[0]])\n",
        "fig = plt.figure(figsize=(5,5))\n",
        "width = 0.75 \n",
        "model_accuracy.sort_values().plot.bar(alpha=0.8, color=[col_value[0]])\n",
        "plt.xticks(rotation=0)\n",
        "plt.title('Model Accracy')\n",
        "plt.ylabel('Accuracy (%)')\n",
        "plt.show()\n",
        "print()\n",
        "print()"
      ],
      "execution_count": null,
      "outputs": [
        {
          "output_type": "stream",
          "text": [
            "Confusion matrix of model is :\n",
            "[[19  3]\n",
            " [ 3 20]]\n",
            "\n",
            "Classification Report : \n",
            "              precision    recall  f1-score   support\n",
            "\n",
            "           0       0.86      0.86      0.86        22\n",
            "           1       0.87      0.87      0.87        23\n",
            "\n",
            "    accuracy                           0.87        45\n",
            "   macro avg       0.87      0.87      0.87        45\n",
            "weighted avg       0.87      0.87      0.87        45\n",
            "\n",
            "\n",
            "Testing accuracy :  86.66666666666667\n",
            "Sensitivity :  0.8636363636363636\n",
            "Specificity :  0.8695652173913043\n",
            "false positive rate :  0.13043478260869565\n",
            "false negative rate :  0.13636363636363635\n",
            "Negative Predictive Value :  0.8695652173913043\n",
            "False Discovery rate :  0.13636363636363635\n",
            "Mean Absolute Error: 0.13333333333333333\n",
            "Mean Squared Error: 0.13333333333333333\n",
            "Root Mean Squared Error: 0.3651483716701107\n",
            "Log_Loss: 4.605223492483438\n",
            "Cohen_Kappa_Score: 0.733201581027668\n",
            "\n",
            "\n"
          ],
          "name": "stdout"
        },
        {
          "output_type": "display_data",
          "data": {
            "image/png": "[encoded data removed]",
            "text/plain": [
              "<Figure size 360x360 with 1 Axes>"
            ]
          },
          "metadata": {
            "tags": [],
            "needs_background": "light"
          }
        },
        {
          "output_type": "stream",
          "text": [
            "\n",
            "\n"
          ],
          "name": "stdout"
        }
      ]
    },
    {
      "cell_type": "code",
      "metadata": {
        "id": "rPpEYFlF0R_4",
        "colab": {
          "base_uri": "https://localhost:8080/",
          "height": 863
        },
        "outputId": "aab95742-6ea1-45b1-c148-2961916e7435"
      },
      "source": [
        "from sklearn.linear_model import LogisticRegression\n",
        "l = LogisticRegression()\n",
        "l.fit(x_train,y_train)\n",
        "logi=l.score(x_test,  y_test)\n",
        "print('Confusion matrix of model',i , 'is :')\n",
        "cm = confusion_matrix(y_test,l.predict(x_test))\n",
        "TP = cm[0][0]\n",
        "TN = cm[1][1]\n",
        "FP = cm[0][1]\n",
        "FN = cm[1][0]\n",
        "print(cm)\n",
        "print()\n",
        "result1 = classification_report(y_test, l.predict(x_test))\n",
        "print(\"Classification Report : \",)\n",
        "print (result1)\n",
        "print()\n",
        "var6 = ((TP + TN)/(TP + TN + FP + FN)) *100\n",
        "print('Testing accuracy : ',var6)\n",
        "print('Sensitivity : ', TP/(TP+FN))\n",
        "print('Specificity : ', TN/(TN+FP))\n",
        "print('false positive rate : ', FP/(FP+TN))\n",
        "print('false negative rate : ', FN/(FN+TP))\n",
        "print('Negative Predictive Value : ', TN/(TN+FN))\n",
        "print('False Discovery rate : ', FP/(TP+FP))\n",
        "print('Mean Absolute Error:', metrics.mean_absolute_error(y_test,l.predict(x_test)))\n",
        "print('Mean Squared Error:', metrics.mean_squared_error(y_test, l.predict(x_test)))\n",
        "print('Root Mean Squared Error:', np.sqrt(metrics.mean_squared_error(y_test,l.predict(x_test))))\n",
        "print('Log_Loss:', metrics.log_loss(y_test,l.predict(x_test)))\n",
        "print('Cohen_Kappa_Score:', cohen_kappa_score(y_test, l.predict(x_test)))\n",
        "\n",
        "print()\n",
        "print()\n",
        "name = ['Logistic Regression']\n",
        "col_value = ['#2ecc71']\n",
        "model_accuracy = pd.Series(data=[var], index=[name[0]])\n",
        "fig = plt.figure(figsize=(5,5))\n",
        "width = 0.75 \n",
        "model_accuracy.sort_values().plot.bar(alpha=0.8, color=[col_value[0]])\n",
        "plt.xticks(rotation=0)\n",
        "plt.title('Model Accracy')\n",
        "plt.ylabel('Accuracy (%)')\n",
        "plt.show()\n",
        "print()\n",
        "print()"
      ],
      "execution_count": null,
      "outputs": [
        {
          "output_type": "stream",
          "text": [
            "Confusion matrix of model 4 is :\n",
            "[[16  6]\n",
            " [ 1 22]]\n",
            "\n",
            "Classification Report : \n",
            "              precision    recall  f1-score   support\n",
            "\n",
            "           0       0.94      0.73      0.82        22\n",
            "           1       0.79      0.96      0.86        23\n",
            "\n",
            "    accuracy                           0.84        45\n",
            "   macro avg       0.86      0.84      0.84        45\n",
            "weighted avg       0.86      0.84      0.84        45\n",
            "\n",
            "\n",
            "Testing accuracy :  84.44444444444444\n",
            "Sensitivity :  0.9411764705882353\n",
            "Specificity :  0.7857142857142857\n",
            "false positive rate :  0.21428571428571427\n",
            "false negative rate :  0.058823529411764705\n",
            "Negative Predictive Value :  0.9565217391304348\n",
            "False Discovery rate :  0.2727272727272727\n",
            "Mean Absolute Error: 0.15555555555555556\n",
            "Mean Squared Error: 0.15555555555555556\n",
            "Root Mean Squared Error: 0.39440531887330776\n",
            "Log_Loss: 5.372805163310133\n",
            "Cohen_Kappa_Score: 0.6871896722939423\n",
            "\n",
            "\n"
          ],
          "name": "stdout"
        },
        {
          "output_type": "display_data",
          "data": {
            "image/png": "[encoded data removed]",
            "text/plain": [
              "<Figure size 360x360 with 1 Axes>"
            ]
          },
          "metadata": {
            "tags": [],
            "needs_background": "light"
          }
        },
        {
          "output_type": "stream",
          "text": [
            "\n",
            "\n"
          ],
          "name": "stdout"
        }
      ]
    },
    {
      "cell_type": "code",
      "metadata": {
        "id": "kgcu14rc0dcs",
        "colab": {
          "base_uri": "https://localhost:8080/",
          "height": 452
        },
        "outputId": "5ff531cc-38e8-48ec-9adb-b9b17e82ba7d"
      },
      "source": [
        "import matplotlib.pyplot as plt; plt.rcdefaults()\n",
        "import numpy as np\n",
        "import matplotlib.pyplot as plt\n",
        " \n",
        "objects = ('MNB','RF','DT','SVC','KNN','logi')\n",
        "y_pos = np.arange(len(objects))\n",
        "performance = [var1,var2,var3,var4,var5,var6]\n",
        " \n",
        "plt.bar(y_pos, performance, align='center', alpha=0.9)\n",
        "plt.xticks(y_pos, objects)\n",
        "plt.ylabel('Accuracy')\n",
        "plt.title('Best Accuracy')\n",
        "\n",
        "plt.show()"
      ],
      "execution_count": null,
      "outputs": [
        {
          "output_type": "display_data",
          "data": {
            "image/png": "[encoded data removed]",
            "text/plain": [
              "<Figure size 640x480 with 1 Axes>"
            ]
          },
          "metadata": {
            "tags": []
          }
        }
      ]
    },
    {
      "cell_type": "code",
      "metadata": {
        "id": "Bsl1CsvHs-4G"
      },
      "source": [
        "# news=input()\n",
        "# prt=vocab.transform([news])\n",
        "\n",
        "# m1=mnb.predict(prt)\n",
        "# print(\"MNV Predicted Rating:\",m1)\n",
        "# if m1==0:\n",
        "#   print(\"No\")\n",
        "# else:\n",
        "#   print(\"yes\")\n",
        "\n",
        "# m2=rmfr.predict(prt)\n",
        "# print(\"RF Predicted Rating:\",m2)\n",
        "# if m2==0:\n",
        "#   print(\"No\")\n",
        "# else: \n",
        "#   print(\"yes\")\n",
        "\n",
        "\n",
        "# m3=dt.predict(prt)\n",
        "# print(\"DT Predicted Rating:\",m3)\n",
        "# if m3==0:\n",
        "#   print(\"No\")\n",
        "# else:\n",
        "#   print(\"yes\")\n",
        "\n",
        "\n",
        "# m4=svm.predict(prt)\n",
        "# print(\"SVM Predicted Rating:\",m4)\n",
        "# if m4==0:\n",
        "#   print(\"No\")\n",
        "# else:\n",
        "#   print(\"Yes\")\n",
        "\n",
        "# m5=knn.predict(prt)\n",
        "# print(\"KNN Predicted Rating:\",m4)\n",
        "# if m4==0:\n",
        "#   print(\"No\")\n",
        "# else:\n",
        "#   print(\"Yes\")\n",
        "\n",
        "\n",
        "#   m6=l.predict(prt)\n",
        "# print(\"Logistic Predicted Rating:\",m4)\n",
        "# if m4==0:\n",
        "#   print(\"No\")\n",
        "# else:\n",
        "#   print(\"Yes\")\n"
      ],
      "execution_count": null,
      "outputs": []
    }
  ]
}